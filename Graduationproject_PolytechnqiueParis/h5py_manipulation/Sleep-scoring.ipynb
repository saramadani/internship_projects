{
 "cells": [
  {
   "cell_type": "markdown",
   "metadata": {},
   "source": [
    "## Morpheo project\n",
    "# Sleep scoring assignment"
   ]
  },
  {
   "cell_type": "markdown",
   "metadata": {},
   "source": [
    "*Please execute the cell bellow to initialize the notebook environment*"
   ]
  },
  {
   "cell_type": "code",
   "execution_count": 1,
   "metadata": {},
   "outputs": [
    {
     "data": {},
     "metadata": {},
     "output_type": "display_data"
    },
    {
     "name": "stdout",
     "output_type": "stream",
     "text": [
      "Autosave disabled\n"
     ]
    },
    {
     "name": "stderr",
     "output_type": "stream",
     "text": [
      "/share/tools/local/lib/python2.7/site-packages/h5py/__init__.py:36: FutureWarning: Conversion of the second argument of issubdtype from `float` to `np.floating` is deprecated. In future, it will be treated as `np.float64 == np.dtype(float).type`.\n",
      "  from ._conv import register_converters as _register_converters\n",
      "Using TensorFlow backend.\n"
     ]
    }
   ],
   "source": [
    "%autosave 0\n",
    "%matplotlib notebook\n",
    "\n",
    "from __future__ import division, print_function\n",
    "import numpy as np\n",
    "import scipy as sp\n",
    "import matplotlib.pyplot as plt\n",
    "import keras\n",
    "import h5py\n",
    "\n",
    "plt.rcParams.update({'figure.figsize': (4.5, 3.5), 'lines.linewidth': 2.0})"
   ]
  },
  {
   "cell_type": "markdown",
   "metadata": {},
   "source": [
    "## Data visualization"
   ]
  },
  {
   "cell_type": "markdown",
   "metadata": {
    "collapsed": true
   },
   "source": [
    "### Import dataset\n",
    "Investigate the structure of polysomnography records in HDF5 format.\n",
    "\n",
    "**Suggestions**\n",
    "* Open HDF5 database `mesa-sleep-0001_s`\n",
    "* Print table names and their shapes"
   ]
  },
  {
   "cell_type": "code",
   "execution_count": 37,
   "metadata": {},
   "outputs": [
    {
     "name": "stdout",
     "output_type": "stream",
     "text": [
      "table\tshape\n",
      "EEG1 \t (1439, 1920)\n",
      "EEG2 \t (1439, 1920)\n",
      "EEG3 \t (1439, 1920)\n",
      "EKG \t (1439, 1920)\n",
      "EMG \t (1439, 1920)\n",
      "EOG-L \t (1439, 1920)\n",
      "EOG-R \t (1439, 1920)\n",
      "stages \t (1439,)\n"
     ]
    }
   ],
   "source": [
    "path = 'data/mesa-sleep-0001_s'\n",
    "import h5py\n",
    "filename = path\n",
    "f = h5py.File(filename, 'r')\n",
    "print('table'+'\\t'+'shape')\n",
    "for i in f :\n",
    "    print(str(i),'\\t',str(f[i].shape))\n",
    "    \n",
    "    \n",
    "\n",
    "# insert your code here"
   ]
  },
  {
   "cell_type": "markdown",
   "metadata": {},
   "source": [
    "**EXPECTED OUTPUT**"
   ]
  },
  {
   "cell_type": "raw",
   "metadata": {},
   "source": [
    "table\t shape \n",
    "\n",
    "EEG1 \t (1439, 1920)\n",
    "EEG2 \t (1439, 1920)\n",
    "EEG3 \t (1439, 1920)\n",
    "EKG \t (1439, 1920)\n",
    "EMG \t (1439, 1920)\n",
    "EOG-L \t (1439, 1920)\n",
    "EOG-R \t (1439, 1920)\n",
    "stages \t (1439,)"
   ]
  },
  {
   "cell_type": "markdown",
   "metadata": {},
   "source": [
    "### Data types\n",
    "Check data type of tables and their records for EEG tables (`EEG*`) and hypnogram table (`stages`).\n",
    "\n",
    "The hypnogram is split in 30 s intervals of recording, called *epochs*. Each epoch is assigned a sleep score.\n",
    "\n",
    "Print data type of EEG tables and their records."
   ]
  },
  {
   "cell_type": "code",
   "execution_count": 43,
   "metadata": {},
   "outputs": [
    {
     "name": "stdout",
     "output_type": "stream",
     "text": [
      "table\t table type\t\t\t\t record type\n",
      "\n",
      "EEG1\t <class 'h5py._hl.dataset.Dataset'> \t float32\n",
      "EEG2\t <class 'h5py._hl.dataset.Dataset'> \t float32\n",
      "EEG3\t <class 'h5py._hl.dataset.Dataset'> \t float32\n",
      "stages\t <class 'h5py._hl.dataset.Dataset'> \t int32\n"
     ]
    }
   ],
   "source": [
    "print('table\\t table type\\t\\t\\t\\t record type\\n')\n",
    "\n",
    "# insert your code here\n",
    "print('EEG1\\t',type(f['EEG1']),'\\t',f['EEG1'].dtype)\n",
    "print('EEG2\\t',type(f['EEG2']),'\\t',f['EEG2'].dtype)\n",
    "print('EEG3\\t',type(f['EEG3']),'\\t',f['EEG3'].dtype)\n",
    "print('stages\\t',type(f['stages']),'\\t',f['stages'].dtype)\n",
    "\n",
    "\n",
    "\n",
    "    \n",
    "\n"
   ]
  },
  {
   "cell_type": "markdown",
   "metadata": {},
   "source": [
    "**EXPECTED OUTPUT**"
   ]
  },
  {
   "cell_type": "raw",
   "metadata": {},
   "source": [
    "table\t table type\t\t\t\t                 record type\n",
    "\n",
    "EEG1 \t <class 'h5py._hl.dataset.Dataset'> \t float32\n",
    "EEG2 \t <class 'h5py._hl.dataset.Dataset'> \t float32\n",
    "EEG3 \t <class 'h5py._hl.dataset.Dataset'> \t float32\n",
    "stages \t <class 'h5py._hl.dataset.Dataset'> \t int32"
   ]
  },
  {
   "cell_type": "markdown",
   "metadata": {},
   "source": [
    "### Convert data to Numpy arrays\n",
    "Export EEG channels to array `x` and hypnogram to array `y`.\n",
    "\n",
    "Print variable type of arrays `x` and `y`, and their contents.  \n",
    "\n",
    "**Suggestions**\n",
    "* Concatenate tables `EEG*` into array `x` with shape `(3, 1439, 1920)`\n",
    "* Save table `stages` into array `y` with shape `(1, 1439)`"
   ]
  },
  {
   "cell_type": "code",
   "execution_count": 69,
   "metadata": {},
   "outputs": [
    {
     "name": "stdout",
     "output_type": "stream",
     "text": [
      "[0 0 0 ..., 0 0 0]\n",
      "var \t var type \t\t\t element type \t var shape\n",
      "x\t <class 'numpy.ndarray'> \t float32 \t (3, 1439, 1920)\n"
     ]
    }
   ],
   "source": [
    "# insert your code here\n",
    "import numpy as np\n",
    "a=np.array(f['EEG1'])\n",
    "b=np.array(f['EEG2'])\n",
    "c=np.array(f['EEG3'])\n",
    "d=np.concatenate((a,b,c),axis=1)\n",
    "x=d.reshape(3,1439,1920)\n",
    "y=np.array(f['stages'])\n",
    "\n",
    "print('var \\t var type \\t\\t\\t element type \\t var shape')\n",
    "print('x''\\t',type(x),'\\t',x.dtype,'\\t',x.shape)\n",
    "print('y''\\t',type(x),'\\t',x.dtype,'\\t',x.shape)\n",
    "\n",
    "\n"
   ]
  },
  {
   "cell_type": "markdown",
   "metadata": {},
   "source": [
    "**EXPECTED OUTPUT**"
   ]
  },
  {
   "cell_type": "raw",
   "metadata": {},
   "source": [
    "var\t var type\t\t\t         element type\t var shape\n",
    "\n",
    "x \t <type 'numpy.ndarray'> \t float32 \t     (3, 1439, 1920)\n",
    "y \t <type 'numpy.ndarray'> \t int32 \t         (1, 1439)"
   ]
  },
  {
   "cell_type": "markdown",
   "metadata": {},
   "source": [
    "### Visualize data\n",
    "Visualize data from EEG channels and hypnogram by plotting epoch 1000 of each.\n",
    "\n",
    "**Suggestions**\n",
    "* Plot first 200 samples of epoch 1000 of array `x`. Add a small value to each channel to separate them vertically.\n",
    "* Plot all samples from array `y`."
   ]
  },
  {
   "cell_type": "code",
   "execution_count": 5,
   "metadata": {
    "collapsed": true
   },
   "outputs": [],
   "source": [
    "# insert your code here"
   ]
  },
  {
   "cell_type": "markdown",
   "metadata": {},
   "source": [
    "**EXPECTED OUTPUT**"
   ]
  },
  {
   "cell_type": "markdown",
   "metadata": {},
   "source": [
    "<img src=\"figures/eeg_time.png\" style=\"height: 350px;float: left;\">\n",
    "<img src=\"figures/hypnogram_time.png\" style=\"height: 350px;float: left;\">"
   ]
  },
  {
   "cell_type": "markdown",
   "metadata": {},
   "source": [
    "## Data pre-processing"
   ]
  },
  {
   "cell_type": "markdown",
   "metadata": {},
   "source": [
    "### Basic statistical metrics\n",
    "Print minimum, maximum, mean and standard deviation of EEG channels in array `x`, and plot their histogram.\n",
    "\n",
    "Print unique elements of array `y` and their proportions.\n",
    "\n",
    "**Suggestions**\n",
    "* Use functions `np.min()`, `np.max()`, `np.mean()` and `np.std()` to print statistics of array `x`\n",
    "* Use function `plt.hist()` from Matplotlib to plot histogram of array `x`\n",
    "* Print table of sleep stage proportions in `y`"
   ]
  },
  {
   "cell_type": "code",
   "execution_count": 6,
   "metadata": {},
   "outputs": [
    {
     "name": "stdout",
     "output_type": "stream",
     "text": [
      "EEG\t min\t\t max\t\t mean\t\t\t std\n",
      "\n"
     ]
    }
   ],
   "source": [
    "print('EEG\\t min\\t\\t max\\t\\t mean\\t\\t\\t std\\n')\n",
    "\n",
    "# insert your code here"
   ]
  },
  {
   "cell_type": "markdown",
   "metadata": {},
   "source": [
    "**EXPECTED OUTPUT**"
   ]
  },
  {
   "cell_type": "raw",
   "metadata": {},
   "source": [
    "EEG\t min\t\t max\t\t mean\t\t\t std\n",
    "\n",
    "0 \t -2.6387 \t 2.6618 \t -0.0107 \t\t 0.1657\n",
    "1 \t -2.6356 \t 2.8187 \t 0.0856 \t\t 0.1954\n",
    "2 \t -6.5130 \t 6.2349 \t 0.0080 \t\t 0.6050\n",
    "\n",
    "unique elements of hypnogram: [0, 1, 2, 3, 4]\n",
    "0 0\n",
    "1 0.0074\n",
    "2 0.0022\n",
    "3 0.0526\n",
    "4 0.0128"
   ]
  },
  {
   "cell_type": "markdown",
   "metadata": {},
   "source": [
    "<img src=\"figures/eeg_histogram_pre.png\" style=\"height: 350px;float: left;\">"
   ]
  },
  {
   "cell_type": "markdown",
   "metadata": {},
   "source": [
    "### Remove mean from EEG data\n",
    "Remove channel mean from EEG channels, print basic statistical metrics and plot histogram.\n",
    "\n",
    "**Suggestions**\n",
    "* Reshape matrix `x` into shape (3, ?)\n",
    "* Use function `np.mean()` with `axis` and `keepdims` keywords measure mean of EEG channels\n",
    "* Remove mean of EEG channels from array `x`\n",
    "* Reshape matrix `x` into original shape"
   ]
  },
  {
   "cell_type": "code",
   "execution_count": 7,
   "metadata": {
    "collapsed": true
   },
   "outputs": [],
   "source": [
    "# insert your code here"
   ]
  },
  {
   "cell_type": "markdown",
   "metadata": {},
   "source": [
    "**EXPECTED OUTPUT**"
   ]
  },
  {
   "cell_type": "raw",
   "metadata": {},
   "source": [
    "EEG\t min\t\t max\t\t mean\t\t\t std\n",
    "\n",
    "0 \t -2.6280 \t 2.6725 \t -0.0000 \t\t 0.1657\n",
    "1 \t -2.7213 \t 2.7331 \t -0.0000 \t\t 0.1954\n",
    "2 \t -6.5211 \t 6.2269 \t 0.0000 \t\t 0.6050"
   ]
  },
  {
   "cell_type": "markdown",
   "metadata": {},
   "source": [
    "<img src=\"figures/eeg_histogram.png\" style=\"height: 350px;float: left;\">"
   ]
  },
  {
   "cell_type": "markdown",
   "metadata": {},
   "source": [
    "## Prepare data for training"
   ]
  },
  {
   "cell_type": "markdown",
   "metadata": {},
   "source": [
    "### Write data import function\n",
    "Write function `load_data()` to import EEG channels and hypnogram from HDF5 database."
   ]
  },
  {
   "cell_type": "code",
   "execution_count": 8,
   "metadata": {
    "collapsed": true
   },
   "outputs": [],
   "source": [
    "def load_data(path):\n",
    "    \"\"\"Import EEG channels and hypnogram from HDF5 database.\n",
    "    path: filesystem path of HDF5 database\n",
    "    \n",
    "    returns x: array containing EEG channels\n",
    "            y: array containing hypnogram\n",
    "    \"\"\"\n",
    "    \n",
    "    x = None\n",
    "    y = None\n",
    "    \n",
    "    # insert your code here\n",
    "        \n",
    "    return (x, y)"
   ]
  },
  {
   "cell_type": "code",
   "execution_count": 9,
   "metadata": {
    "collapsed": true
   },
   "outputs": [],
   "source": [
    "path = 'data/mesa-sleep-0002_s'\n",
    "\n",
    "x, y = load_data(path)\n",
    "\n",
    "if x is not None:\n",
    "    print(x[0,0,:5])\n",
    "    print(y[0,1000:1005])"
   ]
  },
  {
   "cell_type": "markdown",
   "metadata": {},
   "source": [
    "**EXPECTED OUTPUT**"
   ]
  },
  {
   "cell_type": "raw",
   "metadata": {},
   "source": [
    "[0.04396349 0.07795955 0.07226041 0.07493883 0.06915694]\n",
    "[4 4 4 4 4]"
   ]
  },
  {
   "cell_type": "markdown",
   "metadata": {},
   "source": [
    "### Split dataset into train and validation sets\n",
    "Split arrays `x` and `y` into train and validation sets `x_train`, `x_val`, `y_train` and `y_val`. The validation set contains 300 epochs from each HDF5 database.\n",
    "\n",
    "Print the shapes of the new arrays.\n",
    "\n",
    "**Note:** the function `np.random.seed(seed=0)` from Numpy is used to replicate the expected output.\n",
    "\n",
    "**Suggestions**\n",
    "* Create boolean array `idx` with 1439 elements initialized with `False` values\n",
    "* Use function `np.random.choice()` to randomly select (without replacement) 300 elements and set them to `True`\n",
    "* Split `x` into `x_train` and `x_val` according to array `idx`\n",
    "* Use function `np.random.seed(seed=0)` from Numpy to replicate the expected output"
   ]
  },
  {
   "cell_type": "code",
   "execution_count": 10,
   "metadata": {
    "collapsed": true
   },
   "outputs": [],
   "source": [
    "np.random.seed(seed=0)\n",
    "\n",
    "x_val = None\n",
    "y_val = None\n",
    "x_train = None\n",
    "y_train = None\n",
    "\n",
    "# insert your code here"
   ]
  },
  {
   "cell_type": "markdown",
   "metadata": {},
   "source": [
    "**EXPECTED OUTPUT**"
   ]
  },
  {
   "cell_type": "raw",
   "metadata": {},
   "source": [
    "var\t\t shape\n",
    "\n",
    "x_train \t (3, 1019, 1920)\n",
    "y_train \t (1, 1019)\n",
    "x_val   \t (3, 300, 1920)\n",
    "y_val   \t (1, 300)"
   ]
  },
  {
   "cell_type": "markdown",
   "metadata": {},
   "source": [
    "### Generate train and validation sets\n",
    "Create train and validation sets in arrays `x_train`, `y_train`, `x_val` and `y_val` from HDF5 databases `mesa-sleep-0001_s`, `mesa-sleep-0002_s`, `mesa-sleep-0006_s`, `mesa-sleep-0014_s` and `mesa-sleep-0016_s`.\n",
    "\n",
    "Print the shapes of train and validation datasets. Print basic statistical metrics of array `x_train`."
   ]
  },
  {
   "cell_type": "code",
   "execution_count": 11,
   "metadata": {
    "collapsed": true
   },
   "outputs": [],
   "source": [
    "np.random.seed(seed=0)\n",
    "\n",
    "paths = ['data/mesa-sleep-0001_s', 'data/mesa-sleep-0002_s',\n",
    "         'data/mesa-sleep-0006_s', 'data/mesa-sleep-0014_s',\n",
    "         'data/mesa-sleep-0016_s']\n",
    "\n",
    "# insert your code here"
   ]
  },
  {
   "cell_type": "markdown",
   "metadata": {},
   "source": [
    "**EXPECTED OUTPUT**"
   ]
  },
  {
   "cell_type": "raw",
   "metadata": {},
   "source": [
    "var\t\t shape\n",
    "\n",
    "x_train \t (3, 5215, 1920)\n",
    "y_train \t (1, 5215)\n",
    "x_val   \t (3, 1500, 1920)\n",
    "  y_val   \t (1, 1500)\n",
    "\n",
    "EEG\t min\t\t max\t\t mean\t\t std\t (x_train)\n",
    "\n",
    "0 \t -2.7610 \t 2.7743 \t 0.0002 \t 0.1589\n",
    "1 \t -2.7251 \t 2.7513 \t 0.0001 \t 0.4217\n",
    "2 \t -6.7197 \t 6.6099 \t 0.0006 \t 0.4857"
   ]
  },
  {
   "cell_type": "markdown",
   "metadata": {},
   "source": [
    "### Generate test set\n",
    "Create test set `x_test` and `y_test` from HDF5 database `mesa-sleep-0021_s`."
   ]
  },
  {
   "cell_type": "code",
   "execution_count": 12,
   "metadata": {
    "collapsed": true
   },
   "outputs": [],
   "source": [
    "path = 'data/mesa-sleep-0021_s'\n",
    "\n",
    "x_test, y_test = load_data(path)\n",
    "\n",
    "# insert your code here"
   ]
  },
  {
   "cell_type": "markdown",
   "metadata": {},
   "source": [
    "**EXPECTED OUTPUT**"
   ]
  },
  {
   "cell_type": "raw",
   "metadata": {},
   "source": [
    "var\t\t shape\n",
    "\n",
    "x_test \t (3, 1079, 1920)\n",
    "y_test \t (1, 1079)\n",
    "\n",
    "EEG\t min\t\t max\t\t mean\t\t std\t (x_test)\n",
    "\n",
    "0 \t -1.9979 \t 0.6084 \t 0.0000 \t 0.0222\n",
    "1 \t -0.4698 \t 2.0072 \t 0.0000 \t 0.0380\n",
    "2 \t -5.0036 \t 1.0731 \t 0.0000 \t 0.0511"
   ]
  },
  {
   "cell_type": "markdown",
   "metadata": {},
   "source": [
    "## Model setup"
   ]
  },
  {
   "cell_type": "markdown",
   "metadata": {},
   "source": [
    "### Write input/output conversion functions\n",
    "Write function `to_input()` to convert EEG data into 2-dimensional array by concatenating EEG channels. \n",
    "\n",
    "Write function `to_output()` to sleep scores into `one-hot-encoding`."
   ]
  },
  {
   "cell_type": "code",
   "execution_count": 13,
   "metadata": {
    "collapsed": true
   },
   "outputs": [],
   "source": [
    "from keras import backend as K\n",
    "from keras.layers import Input, Dense, Layer\n",
    "from keras.models import Sequential\n",
    "\n",
    "def to_input(x):\n",
    "    \"\"\"Convert data array to shape (batch, data).\n",
    "    x: array with shape (channel, batch, data)\n",
    "    \n",
    "    returns x_out: array x with shape (batch, data)\n",
    "    \"\"\"\n",
    "    \n",
    "    x_out = None\n",
    "    \n",
    "    # insert your code here\n",
    "    \n",
    "    return x_out\n",
    "\n",
    "def to_output(y):\n",
    "    \"\"\"Convert label array to one-hot-encoding with shape (batch, data).\n",
    "    y: label array with shape (1, batch)\n",
    "    \n",
    "    returns: x_out (array with shape (batch, label))\n",
    "    \"\"\"\n",
    "    \n",
    "    y_out = None\n",
    "    \n",
    "    # insert your code here\n",
    "   \n",
    "    return y_out"
   ]
  },
  {
   "cell_type": "code",
   "execution_count": 14,
   "metadata": {
    "collapsed": true
   },
   "outputs": [],
   "source": [
    "if to_input(x_train) is not None:\n",
    "    \n",
    "    print('var\\t\\t shape\\n')\n",
    "    for item, item_name in ([[to_input(x_train), 'to_input(x_train)'],\n",
    "                             [to_output(y_train), 'to_output(y_train)']]):\n",
    "        print(item_name, '\\t', item.shape)\n",
    "\n",
    "    print('\\n')\n",
    "    print(to_input(x_train)[:2])\n",
    "    print(to_output(y_train)[:2])"
   ]
  },
  {
   "cell_type": "markdown",
   "metadata": {},
   "source": [
    "**EXPECTED OUTPUT**"
   ]
  },
  {
   "cell_type": "raw",
   "metadata": {},
   "source": [
    "var\t\t shape\n",
    "\n",
    "to_input(x_train) \t (5215, 5760)\n",
    "to_output(y_train) \t (5215, 5)\n",
    "\n",
    "\n",
    "[[ 0.00099635 -0.00578638  0.00100613 ...  0.03390059  0.02277732\n",
    "   0.02381653]\n",
    " [ 0.00212982  0.01151753  0.01028372 ...  0.06126647  0.04901277\n",
    "   0.04564268]]\n",
    "[[1. 0. 0. 0. 0.]\n",
    " [1. 0. 0. 0. 0.]]"
   ]
  },
  {
   "cell_type": "markdown",
   "metadata": {},
   "source": [
    "### Convert datasets to network input/output format\n",
    "Convert datasets into format compatible with network using functions `to_input()` and `to_output()`.\n",
    "\n",
    "Print shapes of the new arrays."
   ]
  },
  {
   "cell_type": "code",
   "execution_count": 15,
   "metadata": {},
   "outputs": [
    {
     "name": "stdout",
     "output_type": "stream",
     "text": [
      "var\t\t shape\n",
      "\n"
     ]
    }
   ],
   "source": [
    "input_train = to_input(x_train)\n",
    "input_val = to_input(x_val)\n",
    "input_test = to_input(x_test)\n",
    "\n",
    "output_train = to_output(y_train)\n",
    "output_val = to_output(y_val)\n",
    "output_test = to_output(y_test)\n",
    "\n",
    "if input_train is not None:\n",
    "    input_shape = input_train.shape[1]\n",
    "    output_shape = output_train.shape[1]\n",
    "\n",
    "print('var\\t\\t shape\\n')\n",
    "\n",
    "# insert your code here"
   ]
  },
  {
   "cell_type": "markdown",
   "metadata": {},
   "source": [
    "**EXPECTED OUTPUT**"
   ]
  },
  {
   "cell_type": "raw",
   "metadata": {},
   "source": [
    "input_train \t (5215, 5760)\n",
    "input_val \t     (1500, 5760)\n",
    "input_test \t     (1079, 5760)\n",
    "output_train \t (5215, 5)\n",
    "output_val \t     (1500, 5)\n",
    "output_test \t (1079, 5)"
   ]
  },
  {
   "cell_type": "markdown",
   "metadata": {},
   "source": [
    "### Softmax model\n",
    "Implement simple network with softmax output layer with library Keras (https://keras.io/).\n",
    "\n",
    "Write function `model_softmax()` that returns the compiled model.\n",
    "\n",
    "Use adadelta optimizer, binary crossentropy loss and categorical accuracy metric."
   ]
  },
  {
   "cell_type": "code",
   "execution_count": 16,
   "metadata": {
    "collapsed": true
   },
   "outputs": [],
   "source": [
    "def model_softmax():\n",
    "    \"\"\"Define softmax network\n",
    "    \n",
    "    returns m: Keras model with softmax output\n",
    "    \"\"\"\n",
    "    \n",
    "    m = None\n",
    "    \n",
    "    # insert your code here\n",
    "    \n",
    "    return m"
   ]
  },
  {
   "cell_type": "code",
   "execution_count": 17,
   "metadata": {
    "collapsed": true
   },
   "outputs": [],
   "source": [
    "model = model_softmax()\n",
    "\n",
    "if model is not None:\n",
    "    model.summary()"
   ]
  },
  {
   "cell_type": "markdown",
   "metadata": {},
   "source": [
    "**EXPECTED OUTPUT**"
   ]
  },
  {
   "cell_type": "raw",
   "metadata": {},
   "source": [
    "_________________________________________________________________\n",
    "Layer (type)                 Output Shape              Param #   \n",
    "=================================================================\n",
    "input (Layer)                (None, 5760)              0         \n",
    "_________________________________________________________________\n",
    "output (Dense)               (None, 5)                 28805     \n",
    "=================================================================\n",
    "Total params: 28,805\n",
    "Trainable params: 28,805\n",
    "Non-trainable params: 0\n",
    "_________________________________________________________________"
   ]
  },
  {
   "cell_type": "markdown",
   "metadata": {},
   "source": [
    "### Train softmax model\n",
    "Train softmax network during 5 training epochs, batch size of 32 with sample shuffling.\n",
    "\n",
    "**Suggestions**\n",
    "* Use method `fit()` with keywords `epochs`, `batch_size` and `shuffle` to train model\n",
    "* Use method `evaluate()` to evaluate performance metrics in validation and test sets"
   ]
  },
  {
   "cell_type": "code",
   "execution_count": 18,
   "metadata": {
    "collapsed": true
   },
   "outputs": [],
   "source": [
    "np.random.seed(seed=0)\n",
    "\n",
    "n_epochs = 5\n",
    "\n",
    "model = model_softmax()\n",
    "\n",
    "# insert your code here"
   ]
  },
  {
   "cell_type": "markdown",
   "metadata": {},
   "source": [
    "**EXPECTED OUTPUT**"
   ]
  },
  {
   "cell_type": "raw",
   "metadata": {},
   "source": [
    "Epoch 1/5\n",
    "5215/5215 [==============================] - 0s - loss: 0.5114 - categorical_accuracy: 0.3262     \n",
    "...\n",
    "Epoch 5/5\n",
    "5215/5215 [==============================] - 0s - loss: 0.4514 - categorical_accuracy: 0.3919     \n",
    "\n",
    "Dataset\t loss\t\t accuracy\n",
    "val\t     0.4697 \t 0.3307\n",
    "test\t 0.4914 \t 0.1196"
   ]
  },
  {
   "cell_type": "markdown",
   "metadata": {},
   "source": [
    "### Performance evaluation with cross-validation\n",
    "Estimate model performance on unseen data by implementing leave-one-out cross-validation scheme with function `cross_validation()`."
   ]
  },
  {
   "cell_type": "code",
   "execution_count": 19,
   "metadata": {
    "collapsed": true
   },
   "outputs": [],
   "source": [
    "def cross_validation(paths, model_ref, n_epochs=5, verbose=True):\n",
    "    \"\"\"Leave-one-out crossvalidatin scheme\n",
    "    paths: list containing paths of HDF5 databases\n",
    "    model_ref: Keras model\n",
    "    n_epochs: number of training epochs\n",
    "    verbose: print intermediate results\n",
    "    \n",
    "    returns models: list with trained Keras models\n",
    "            metrics: list with training metrics\n",
    "    \"\"\"\n",
    "    \n",
    "    models = None\n",
    "    metrics = None\n",
    "\n",
    "    np.random.seed(seed=0)\n",
    "\n",
    "    # insert your code here\n",
    "    \n",
    "    return (models, metrics)"
   ]
  },
  {
   "cell_type": "markdown",
   "metadata": {},
   "source": [
    "### Train softmax model with cross-validation\n",
    "Train softmax model with cross-validation, 5 training epochs, batch size of 32 with sample shuffling."
   ]
  },
  {
   "cell_type": "code",
   "execution_count": 20,
   "metadata": {
    "collapsed": true
   },
   "outputs": [],
   "source": [
    "paths = ['data/mesa-sleep-0001_s', 'data/mesa-sleep-0002_s',\n",
    "         'data/mesa-sleep-0006_s', 'data/mesa-sleep-0014_s',\n",
    "         'data/mesa-sleep-0016_s', 'data/mesa-sleep-0021_s']\n",
    "\n",
    "models, model_test = cross_validation(paths, model_softmax, n_epochs=n_epochs)\n",
    "\n",
    "# insert your code here"
   ]
  },
  {
   "cell_type": "markdown",
   "metadata": {},
   "source": [
    "**EXPECTED OUTPUT**"
   ]
  },
  {
   "cell_type": "raw",
   "metadata": {},
   "source": [
    "Dataset\t loss\t\t accuracy\t Fold\n",
    "\n",
    "test\t 0.4881 \t 0.3732 \t 0\n",
    "test\t 0.4748 \t 0.3768 \t 1\n",
    "test\t 0.4705 \t 0.3142 \t 2\n",
    "test\t 0.5106 \t 0.3306 \t 3\n",
    "test\t 0.4838 \t 0.3269 \t 4\n",
    "test\t 0.4892 \t 0.1149 \t 5\n",
    "\n",
    "min\t     max\t\t mean\t     std\t (accuracy)\n",
    "\n",
    "0.1149 \t 0.3768 \t 0.3061 \t 0.0886"
   ]
  },
  {
   "cell_type": "markdown",
   "metadata": {},
   "source": [
    "### Shallow ANN model\n",
    "Implement single hidden layer with 250 ReLU units and softmax output.\n",
    "\n",
    "Write function `model_ann()` that returns the compiled model.\n",
    "\n",
    "Use adadelta optimizer, binary crossentropy loss and categorical accuracy metric."
   ]
  },
  {
   "cell_type": "code",
   "execution_count": 21,
   "metadata": {
    "collapsed": true
   },
   "outputs": [],
   "source": [
    "def model_ann():\n",
    "    \"\"\"Define shallow ANN model\n",
    "    \n",
    "    returns m: shallow ANN Keras model\n",
    "    \"\"\"\n",
    "    \n",
    "    m = None\n",
    "    \n",
    "    # insert your code here\n",
    "    \n",
    "    return m"
   ]
  },
  {
   "cell_type": "code",
   "execution_count": 22,
   "metadata": {
    "collapsed": true
   },
   "outputs": [],
   "source": [
    "model = model_ann()\n",
    "\n",
    "if model is not None:\n",
    "    model.summary()"
   ]
  },
  {
   "cell_type": "markdown",
   "metadata": {},
   "source": [
    "**EXPECTED OUTPUT**"
   ]
  },
  {
   "cell_type": "raw",
   "metadata": {},
   "source": [
    "_________________________________________________________________\n",
    "Layer (type)                 Output Shape              Param #   \n",
    "=================================================================\n",
    "input (Layer)                (None, 5760)              0         \n",
    "_________________________________________________________________\n",
    "h1 (Dense)                   (None, 256)               1474816   \n",
    "_________________________________________________________________\n",
    "output (Dense)               (None, 5)                 1285      \n",
    "=================================================================\n",
    "Total params: 1,476,101\n",
    "Trainable params: 1,476,101\n",
    "Non-trainable params: 0\n",
    "_________________________________________________________________"
   ]
  },
  {
   "cell_type": "markdown",
   "metadata": {},
   "source": [
    "### Train shallow ANN model with cross-validation\n",
    "Train shallow ANN model with cross-validation, 5 training epochs, batch size of 32 with sample shuffling."
   ]
  },
  {
   "cell_type": "code",
   "execution_count": 23,
   "metadata": {
    "collapsed": true
   },
   "outputs": [],
   "source": [
    "models, model_test = cross_validation(paths, model_ann, n_epochs=n_epochs)\n",
    "\n",
    "# insert your code here"
   ]
  },
  {
   "cell_type": "markdown",
   "metadata": {},
   "source": [
    "**EXPECTED OUTPUT**"
   ]
  },
  {
   "cell_type": "raw",
   "metadata": {},
   "source": [
    "Dataset\t loss\t\t accuracy\t Fold\n",
    "\n",
    "test\t 0.4180 \t 0.4434 \t 0\n",
    "test\t 0.4463 \t 0.4086 \t 1\n",
    "test\t 0.4388 \t 0.4421 \t 2\n",
    "test\t 0.5016 \t 0.4395 \t 3\n",
    "test\t 0.4916 \t 0.3745 \t 4\n",
    "test\t 0.4817 \t 0.5042 \t 5\n",
    "\n",
    "min\t     max\t\t mean\t     std\t (accuracy)\n",
    "\n",
    "0.3745 \t 0.5042 \t 0.4354 \t 0.0393"
   ]
  },
  {
   "cell_type": "markdown",
   "metadata": {},
   "source": [
    "## Additional questions"
   ]
  },
  {
   "cell_type": "markdown",
   "metadata": {},
   "source": [
    "Make changes to the model and training data and investigate performance impacts.\n",
    "\n",
    "**Suggestions**\n",
    "* Try other types of activation units\n",
    "* Add additional hidden layers \n",
    "* Use different backprop optimizer\n",
    "* Change mini-batch size\n",
    "* Include additional polysomnograph channels \n",
    "* Use different data pre-processing operations\n",
    "* Use spectral input representation\n",
    "* Use models from cross-validation to implement committee of networks with majority voting"
   ]
  }
 ],
 "metadata": {
  "kernelspec": {
   "display_name": "Python 3",
   "language": "python",
   "name": "python3"
  },
  "language_info": {
   "codemirror_mode": {
    "name": "ipython",
    "version": 3
   },
   "file_extension": ".py",
   "mimetype": "text/x-python",
   "name": "python",
   "nbconvert_exporter": "python",
   "pygments_lexer": "ipython3",
   "version": "3.6.3"
  }
 },
 "nbformat": 4,
 "nbformat_minor": 2
}
